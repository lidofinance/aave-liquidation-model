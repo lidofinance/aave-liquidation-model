{
 "cells": [
  {
   "cell_type": "code",
   "execution_count": 2,
   "id": "ab90242b",
   "metadata": {},
   "outputs": [],
   "source": [
    "import requests\n",
    "import pandas as pd\n",
    "import csv  \n",
    "import time\n",
    "import numpy as np\n",
    "import json\n",
    "import warnings\n",
    "warnings.filterwarnings(\"ignore\")\n",
    "\n",
    "from utils import extractor_v2 as v2\n",
    "from utils import extractor_v3 as v3\n",
    "from datetime import datetime\n"
   ]
  },
  {
   "cell_type": "code",
   "execution_count": 3,
   "id": "ec9940c3",
   "metadata": {},
   "outputs": [
    {
     "name": "stdout",
     "output_type": "stream",
     "text": [
      "Executed on: 2023-06-19 17:10:57\n"
     ]
    }
   ],
   "source": [
    "now = datetime.now()\n",
    "print('Executed on:', now.strftime(\"%Y-%m-%d %H:%M:%S\") )"
   ]
  },
  {
   "attachments": {},
   "cell_type": "markdown",
   "id": "8f74d337",
   "metadata": {},
   "source": [
    "### Aave V2 stETH market. Data extraction"
   ]
  },
  {
   "cell_type": "code",
   "execution_count": 4,
   "id": "be779a10",
   "metadata": {},
   "outputs": [
    {
     "data": {
      "text/html": [
       "<div>\n",
       "<style scoped>\n",
       "    .dataframe tbody tr th:only-of-type {\n",
       "        vertical-align: middle;\n",
       "    }\n",
       "\n",
       "    .dataframe tbody tr th {\n",
       "        vertical-align: top;\n",
       "    }\n",
       "\n",
       "    .dataframe thead th {\n",
       "        text-align: right;\n",
       "    }\n",
       "</style>\n",
       "<table border=\"1\" class=\"dataframe\">\n",
       "  <thead>\n",
       "    <tr style=\"text-align: right;\">\n",
       "      <th></th>\n",
       "      <th>user</th>\n",
       "      <th>collateral</th>\n",
       "      <th>debt</th>\n",
       "      <th>available_borrow</th>\n",
       "      <th>threshold</th>\n",
       "      <th>ltv</th>\n",
       "      <th>healthf</th>\n",
       "      <th>amount</th>\n",
       "      <th>ethdebt</th>\n",
       "      <th>collateral_steth_calc</th>\n",
       "      <th>diff_collateral</th>\n",
       "      <th>diff_debt</th>\n",
       "    </tr>\n",
       "  </thead>\n",
       "  <tbody>\n",
       "    <tr>\n",
       "      <th>0</th>\n",
       "      <td>0x777777c9898d384f785ee44acfe945efdff5f3e0</td>\n",
       "      <td>216,300.41</td>\n",
       "      <td>51,884.62</td>\n",
       "      <td>103981454977953499370879</td>\n",
       "      <td>8281</td>\n",
       "      <td>7206</td>\n",
       "      <td>3.45</td>\n",
       "      <td>171,718.34</td>\n",
       "      <td>25,938.93</td>\n",
       "      <td>171,552.03</td>\n",
       "      <td>0.21</td>\n",
       "      <td>0.50</td>\n",
       "    </tr>\n",
       "    <tr>\n",
       "      <th>1</th>\n",
       "      <td>0xa976ea51b9ba3232706af125a92e32788dc08ddc</td>\n",
       "      <td>93,027.99</td>\n",
       "      <td>52,022.37</td>\n",
       "      <td>15106627111949065188618</td>\n",
       "      <td>8277</td>\n",
       "      <td>7216</td>\n",
       "      <td>1.48</td>\n",
       "      <td>61,010.94</td>\n",
       "      <td>45,064.67</td>\n",
       "      <td>60,951.86</td>\n",
       "      <td>0.34</td>\n",
       "      <td>0.13</td>\n",
       "    </tr>\n",
       "    <tr>\n",
       "      <th>2</th>\n",
       "      <td>0x9600a48ed0f931d0c422d574e3275a90d8b22745</td>\n",
       "      <td>47,808.47</td>\n",
       "      <td>37,883.72</td>\n",
       "      <td>0</td>\n",
       "      <td>8300</td>\n",
       "      <td>7200</td>\n",
       "      <td>1.05</td>\n",
       "      <td>47,854.82</td>\n",
       "      <td>37,883.72</td>\n",
       "      <td>47,808.47</td>\n",
       "      <td>0.00</td>\n",
       "      <td>0.00</td>\n",
       "    </tr>\n",
       "    <tr>\n",
       "      <th>3</th>\n",
       "      <td>0x171c53d55b1bcb725f660677d9e8bad7fd084282</td>\n",
       "      <td>32,144.27</td>\n",
       "      <td>22,968.34</td>\n",
       "      <td>175530122016854802523</td>\n",
       "      <td>8300</td>\n",
       "      <td>7200</td>\n",
       "      <td>1.16</td>\n",
       "      <td>32,175.31</td>\n",
       "      <td>0.00</td>\n",
       "      <td>32,144.15</td>\n",
       "      <td>0.00</td>\n",
       "      <td>1.00</td>\n",
       "    </tr>\n",
       "    <tr>\n",
       "      <th>4</th>\n",
       "      <td>0x7c07f7abe10ce8e33dc6c5ad68fe033085256a84</td>\n",
       "      <td>28,966.30</td>\n",
       "      <td>17,929.73</td>\n",
       "      <td>2926004763423410907455</td>\n",
       "      <td>8300</td>\n",
       "      <td>7200</td>\n",
       "      <td>1.34</td>\n",
       "      <td>28,994.38</td>\n",
       "      <td>17,929.73</td>\n",
       "      <td>28,966.30</td>\n",
       "      <td>0.00</td>\n",
       "      <td>0.00</td>\n",
       "    </tr>\n",
       "    <tr>\n",
       "      <th>...</th>\n",
       "      <td>...</td>\n",
       "      <td>...</td>\n",
       "      <td>...</td>\n",
       "      <td>...</td>\n",
       "      <td>...</td>\n",
       "      <td>...</td>\n",
       "      <td>...</td>\n",
       "      <td>...</td>\n",
       "      <td>...</td>\n",
       "      <td>...</td>\n",
       "      <td>...</td>\n",
       "      <td>...</td>\n",
       "    </tr>\n",
       "    <tr>\n",
       "      <th>1394</th>\n",
       "      <td>0x219da023416209c8c6cfb47d9903353541a359dc</td>\n",
       "      <td>0.10</td>\n",
       "      <td>0.07</td>\n",
       "      <td>2548618052704162</td>\n",
       "      <td>8300</td>\n",
       "      <td>7200</td>\n",
       "      <td>1.19</td>\n",
       "      <td>0.10</td>\n",
       "      <td>0.07</td>\n",
       "      <td>0.10</td>\n",
       "      <td>0.00</td>\n",
       "      <td>0.00</td>\n",
       "    </tr>\n",
       "    <tr>\n",
       "      <th>1428</th>\n",
       "      <td>0x28d0f70fa8c6e9657ff1290616b5afcbafb70eac</td>\n",
       "      <td>0.10</td>\n",
       "      <td>0.01</td>\n",
       "      <td>61789561613105805</td>\n",
       "      <td>8300</td>\n",
       "      <td>7200</td>\n",
       "      <td>7.20</td>\n",
       "      <td>0.10</td>\n",
       "      <td>0.00</td>\n",
       "      <td>0.10</td>\n",
       "      <td>0.00</td>\n",
       "      <td>1.00</td>\n",
       "    </tr>\n",
       "    <tr>\n",
       "      <th>1446</th>\n",
       "      <td>0x17a11b39e739deea6f690fe03117527b28f3ece2</td>\n",
       "      <td>0.10</td>\n",
       "      <td>0.01</td>\n",
       "      <td>67622868532180598</td>\n",
       "      <td>8300</td>\n",
       "      <td>7200</td>\n",
       "      <td>14.40</td>\n",
       "      <td>0.10</td>\n",
       "      <td>0.00</td>\n",
       "      <td>0.10</td>\n",
       "      <td>0.00</td>\n",
       "      <td>1.00</td>\n",
       "    </tr>\n",
       "    <tr>\n",
       "      <th>1441</th>\n",
       "      <td>0x608f4a15f525008e5d1d81309fcd5b5b1211d289</td>\n",
       "      <td>0.10</td>\n",
       "      <td>0.04</td>\n",
       "      <td>32293939090967554</td>\n",
       "      <td>8300</td>\n",
       "      <td>7200</td>\n",
       "      <td>2.06</td>\n",
       "      <td>0.10</td>\n",
       "      <td>0.00</td>\n",
       "      <td>0.10</td>\n",
       "      <td>0.00</td>\n",
       "      <td>1.00</td>\n",
       "    </tr>\n",
       "    <tr>\n",
       "      <th>1480</th>\n",
       "      <td>0x3dffe149c43209eba76763192878e3c400fc82a9</td>\n",
       "      <td>0.10</td>\n",
       "      <td>0.02</td>\n",
       "      <td>52710059816532376</td>\n",
       "      <td>8300</td>\n",
       "      <td>7200</td>\n",
       "      <td>4.11</td>\n",
       "      <td>0.10</td>\n",
       "      <td>0.00</td>\n",
       "      <td>0.10</td>\n",
       "      <td>0.00</td>\n",
       "      <td>1.00</td>\n",
       "    </tr>\n",
       "  </tbody>\n",
       "</table>\n",
       "<p>1308 rows × 12 columns</p>\n",
       "</div>"
      ],
      "text/plain": [
       "                                            user collateral      debt  \\\n",
       "0     0x777777c9898d384f785ee44acfe945efdff5f3e0 216,300.41 51,884.62   \n",
       "1     0xa976ea51b9ba3232706af125a92e32788dc08ddc  93,027.99 52,022.37   \n",
       "2     0x9600a48ed0f931d0c422d574e3275a90d8b22745  47,808.47 37,883.72   \n",
       "3     0x171c53d55b1bcb725f660677d9e8bad7fd084282  32,144.27 22,968.34   \n",
       "4     0x7c07f7abe10ce8e33dc6c5ad68fe033085256a84  28,966.30 17,929.73   \n",
       "...                                          ...        ...       ...   \n",
       "1394  0x219da023416209c8c6cfb47d9903353541a359dc       0.10      0.07   \n",
       "1428  0x28d0f70fa8c6e9657ff1290616b5afcbafb70eac       0.10      0.01   \n",
       "1446  0x17a11b39e739deea6f690fe03117527b28f3ece2       0.10      0.01   \n",
       "1441  0x608f4a15f525008e5d1d81309fcd5b5b1211d289       0.10      0.04   \n",
       "1480  0x3dffe149c43209eba76763192878e3c400fc82a9       0.10      0.02   \n",
       "\n",
       "              available_borrow  threshold   ltv healthf     amount   ethdebt  \\\n",
       "0     103981454977953499370879       8281  7206    3.45 171,718.34 25,938.93   \n",
       "1      15106627111949065188618       8277  7216    1.48  61,010.94 45,064.67   \n",
       "2                            0       8300  7200    1.05  47,854.82 37,883.72   \n",
       "3        175530122016854802523       8300  7200    1.16  32,175.31      0.00   \n",
       "4       2926004763423410907455       8300  7200    1.34  28,994.38 17,929.73   \n",
       "...                        ...        ...   ...     ...        ...       ...   \n",
       "1394          2548618052704162       8300  7200    1.19       0.10      0.07   \n",
       "1428         61789561613105805       8300  7200    7.20       0.10      0.00   \n",
       "1446         67622868532180598       8300  7200   14.40       0.10      0.00   \n",
       "1441         32293939090967554       8300  7200    2.06       0.10      0.00   \n",
       "1480         52710059816532376       8300  7200    4.11       0.10      0.00   \n",
       "\n",
       "     collateral_steth_calc diff_collateral diff_debt  \n",
       "0               171,552.03            0.21      0.50  \n",
       "1                60,951.86            0.34      0.13  \n",
       "2                47,808.47            0.00      0.00  \n",
       "3                32,144.15            0.00      1.00  \n",
       "4                28,966.30            0.00      0.00  \n",
       "...                    ...             ...       ...  \n",
       "1394                  0.10            0.00      0.00  \n",
       "1428                  0.10            0.00      1.00  \n",
       "1446                  0.10            0.00      1.00  \n",
       "1441                  0.10            0.00      1.00  \n",
       "1480                  0.10            0.00      1.00  \n",
       "\n",
       "[1308 rows x 12 columns]"
      ]
     },
     "execution_count": 4,
     "metadata": {},
     "output_type": "execute_result"
    }
   ],
   "source": [
    "#Extraction and preparing the data about Aave positions with stETH as collateral\n",
    "df = v2.get_data()\n",
    "df = v2.prepare_data(df)\n",
    "df.sort_values(by='amount',ascending= False)"
   ]
  },
  {
   "cell_type": "code",
   "execution_count": 5,
   "id": "727621c3",
   "metadata": {},
   "outputs": [
    {
     "name": "stdout",
     "output_type": "stream",
     "text": [
      "Aave v2 stETH collateral: 883,276 stETH\n"
     ]
    }
   ],
   "source": [
    "print(f'Aave v2 stETH collateral: {df.amount.sum():,.0f} stETH')"
   ]
  },
  {
   "cell_type": "code",
   "execution_count": 6,
   "id": "e8e95b00",
   "metadata": {},
   "outputs": [],
   "source": [
    "# position's selection for Bin1: with >=80% of collateral in stETH and >= 80% of debt in ETH\n",
    "b1 = v2.get_bin1_eth_debt(df)"
   ]
  },
  {
   "cell_type": "code",
   "execution_count": 7,
   "id": "b217bf6e",
   "metadata": {},
   "outputs": [
    {
     "name": "stdout",
     "output_type": "stream",
     "text": [
      "In Bin1 there is 229,672 stETH, ~ 26.00% of total stETH locked in AAVE v2\n"
     ]
    }
   ],
   "source": [
    "print(f'In Bin1 there is {b1.amount.sum():,.0f} stETH, ~ {100*b1.amount.sum()/df.amount.sum():,.2f}% of total stETH locked in AAVE v2')"
   ]
  },
  {
   "cell_type": "code",
   "execution_count": 8,
   "id": "18495447",
   "metadata": {},
   "outputs": [
    {
     "data": {
      "text/html": [
       "<div>\n",
       "<style scoped>\n",
       "    .dataframe tbody tr th:only-of-type {\n",
       "        vertical-align: middle;\n",
       "    }\n",
       "\n",
       "    .dataframe tbody tr th {\n",
       "        vertical-align: top;\n",
       "    }\n",
       "\n",
       "    .dataframe thead th {\n",
       "        text-align: right;\n",
       "    }\n",
       "</style>\n",
       "<table border=\"1\" class=\"dataframe\">\n",
       "  <thead>\n",
       "    <tr style=\"text-align: right;\">\n",
       "      <th></th>\n",
       "      <th>Unnamed: 0</th>\n",
       "      <th>user</th>\n",
       "      <th>collateral</th>\n",
       "      <th>debt</th>\n",
       "      <th>available_borrow</th>\n",
       "      <th>threshold</th>\n",
       "      <th>ltv</th>\n",
       "      <th>healthf</th>\n",
       "      <th>amount</th>\n",
       "      <th>ethdebt</th>\n",
       "      <th>collateral_steth_calc</th>\n",
       "      <th>diff_collateral</th>\n",
       "      <th>diff_debt</th>\n",
       "    </tr>\n",
       "  </thead>\n",
       "  <tbody>\n",
       "    <tr>\n",
       "      <th>0</th>\n",
       "      <td>0</td>\n",
       "      <td>0x777777c9898d384f785ee44acfe945efdff5f3e0</td>\n",
       "      <td>216,300.41</td>\n",
       "      <td>51,884.62</td>\n",
       "      <td>103981454977953499370879</td>\n",
       "      <td>8281</td>\n",
       "      <td>7206</td>\n",
       "      <td>3.45</td>\n",
       "      <td>171,718.34</td>\n",
       "      <td>25,938.93</td>\n",
       "      <td>171,552.03</td>\n",
       "      <td>0.21</td>\n",
       "      <td>0.50</td>\n",
       "    </tr>\n",
       "    <tr>\n",
       "      <th>1</th>\n",
       "      <td>1</td>\n",
       "      <td>0xa976ea51b9ba3232706af125a92e32788dc08ddc</td>\n",
       "      <td>93,027.99</td>\n",
       "      <td>52,022.37</td>\n",
       "      <td>15106627111949065188618</td>\n",
       "      <td>8277</td>\n",
       "      <td>7216</td>\n",
       "      <td>1.48</td>\n",
       "      <td>61,010.94</td>\n",
       "      <td>45,064.67</td>\n",
       "      <td>60,951.86</td>\n",
       "      <td>0.34</td>\n",
       "      <td>0.13</td>\n",
       "    </tr>\n",
       "    <tr>\n",
       "      <th>2</th>\n",
       "      <td>2</td>\n",
       "      <td>0x9600a48ed0f931d0c422d574e3275a90d8b22745</td>\n",
       "      <td>47,808.47</td>\n",
       "      <td>37,883.72</td>\n",
       "      <td>0</td>\n",
       "      <td>8300</td>\n",
       "      <td>7200</td>\n",
       "      <td>1.05</td>\n",
       "      <td>47,854.82</td>\n",
       "      <td>37,883.72</td>\n",
       "      <td>47,808.47</td>\n",
       "      <td>0.00</td>\n",
       "      <td>0.00</td>\n",
       "    </tr>\n",
       "    <tr>\n",
       "      <th>3</th>\n",
       "      <td>3</td>\n",
       "      <td>0x171c53d55b1bcb725f660677d9e8bad7fd084282</td>\n",
       "      <td>32,144.27</td>\n",
       "      <td>22,968.34</td>\n",
       "      <td>175530122016854802523</td>\n",
       "      <td>8300</td>\n",
       "      <td>7200</td>\n",
       "      <td>1.16</td>\n",
       "      <td>32,175.31</td>\n",
       "      <td>0.00</td>\n",
       "      <td>32,144.15</td>\n",
       "      <td>0.00</td>\n",
       "      <td>1.00</td>\n",
       "    </tr>\n",
       "    <tr>\n",
       "      <th>4</th>\n",
       "      <td>4</td>\n",
       "      <td>0x7c07f7abe10ce8e33dc6c5ad68fe033085256a84</td>\n",
       "      <td>28,966.30</td>\n",
       "      <td>17,929.73</td>\n",
       "      <td>2926004763423410907455</td>\n",
       "      <td>8300</td>\n",
       "      <td>7200</td>\n",
       "      <td>1.34</td>\n",
       "      <td>28,994.38</td>\n",
       "      <td>17,929.73</td>\n",
       "      <td>28,966.30</td>\n",
       "      <td>0.00</td>\n",
       "      <td>0.00</td>\n",
       "    </tr>\n",
       "    <tr>\n",
       "      <th>...</th>\n",
       "      <td>...</td>\n",
       "      <td>...</td>\n",
       "      <td>...</td>\n",
       "      <td>...</td>\n",
       "      <td>...</td>\n",
       "      <td>...</td>\n",
       "      <td>...</td>\n",
       "      <td>...</td>\n",
       "      <td>...</td>\n",
       "      <td>...</td>\n",
       "      <td>...</td>\n",
       "      <td>...</td>\n",
       "      <td>...</td>\n",
       "    </tr>\n",
       "    <tr>\n",
       "      <th>971</th>\n",
       "      <td>1043</td>\n",
       "      <td>0x16aa47b96e7d9e35118dd4a1652e83a86f69ad87</td>\n",
       "      <td>1.04</td>\n",
       "      <td>0.68</td>\n",
       "      <td>64120465223051379</td>\n",
       "      <td>8300</td>\n",
       "      <td>7200</td>\n",
       "      <td>1.26</td>\n",
       "      <td>1.04</td>\n",
       "      <td>0.68</td>\n",
       "      <td>1.04</td>\n",
       "      <td>0.00</td>\n",
       "      <td>0.00</td>\n",
       "    </tr>\n",
       "    <tr>\n",
       "      <th>972</th>\n",
       "      <td>1044</td>\n",
       "      <td>0x7a41ed25316047f96eae5ddbe9e5eadc42eb7bc5</td>\n",
       "      <td>1.04</td>\n",
       "      <td>0.42</td>\n",
       "      <td>327148566846872074</td>\n",
       "      <td>8300</td>\n",
       "      <td>7200</td>\n",
       "      <td>2.05</td>\n",
       "      <td>1.04</td>\n",
       "      <td>0.00</td>\n",
       "      <td>1.04</td>\n",
       "      <td>0.00</td>\n",
       "      <td>1.00</td>\n",
       "    </tr>\n",
       "    <tr>\n",
       "      <th>973</th>\n",
       "      <td>1045</td>\n",
       "      <td>0x0d3450a8110d7fc8adad757bbd976a0aec7501e0</td>\n",
       "      <td>2.05</td>\n",
       "      <td>1.01</td>\n",
       "      <td>315275868525102826</td>\n",
       "      <td>7456</td>\n",
       "      <td>6470</td>\n",
       "      <td>1.51</td>\n",
       "      <td>1.02</td>\n",
       "      <td>1.01</td>\n",
       "      <td>1.02</td>\n",
       "      <td>0.50</td>\n",
       "      <td>0.00</td>\n",
       "    </tr>\n",
       "    <tr>\n",
       "      <th>974</th>\n",
       "      <td>1046</td>\n",
       "      <td>0xe823057e70a0430a254c052dc190f42fc80cb610</td>\n",
       "      <td>15.13</td>\n",
       "      <td>6.84</td>\n",
       "      <td>5519461473041945774</td>\n",
       "      <td>8578</td>\n",
       "      <td>8173</td>\n",
       "      <td>1.90</td>\n",
       "      <td>1.10</td>\n",
       "      <td>0.00</td>\n",
       "      <td>1.10</td>\n",
       "      <td>0.93</td>\n",
       "      <td>1.00</td>\n",
       "    </tr>\n",
       "    <tr>\n",
       "      <th>981</th>\n",
       "      <td>1054</td>\n",
       "      <td>0x92cb71850aa43263ebaaa1e0ed3e78cb984915ff</td>\n",
       "      <td>1.03</td>\n",
       "      <td>0.56</td>\n",
       "      <td>180693550841124912</td>\n",
       "      <td>8300</td>\n",
       "      <td>7200</td>\n",
       "      <td>1.52</td>\n",
       "      <td>1.03</td>\n",
       "      <td>0.56</td>\n",
       "      <td>1.03</td>\n",
       "      <td>0.00</td>\n",
       "      <td>0.00</td>\n",
       "    </tr>\n",
       "  </tbody>\n",
       "</table>\n",
       "<p>976 rows × 13 columns</p>\n",
       "</div>"
      ],
      "text/plain": [
       "     Unnamed: 0                                        user  collateral  \\\n",
       "0             0  0x777777c9898d384f785ee44acfe945efdff5f3e0  216,300.41   \n",
       "1             1  0xa976ea51b9ba3232706af125a92e32788dc08ddc   93,027.99   \n",
       "2             2  0x9600a48ed0f931d0c422d574e3275a90d8b22745   47,808.47   \n",
       "3             3  0x171c53d55b1bcb725f660677d9e8bad7fd084282   32,144.27   \n",
       "4             4  0x7c07f7abe10ce8e33dc6c5ad68fe033085256a84   28,966.30   \n",
       "..          ...                                         ...         ...   \n",
       "971        1043  0x16aa47b96e7d9e35118dd4a1652e83a86f69ad87        1.04   \n",
       "972        1044  0x7a41ed25316047f96eae5ddbe9e5eadc42eb7bc5        1.04   \n",
       "973        1045  0x0d3450a8110d7fc8adad757bbd976a0aec7501e0        2.05   \n",
       "974        1046  0xe823057e70a0430a254c052dc190f42fc80cb610       15.13   \n",
       "981        1054  0x92cb71850aa43263ebaaa1e0ed3e78cb984915ff        1.03   \n",
       "\n",
       "         debt          available_borrow  threshold   ltv  healthf     amount  \\\n",
       "0   51,884.62  103981454977953499370879       8281  7206     3.45 171,718.34   \n",
       "1   52,022.37   15106627111949065188618       8277  7216     1.48  61,010.94   \n",
       "2   37,883.72                         0       8300  7200     1.05  47,854.82   \n",
       "3   22,968.34     175530122016854802523       8300  7200     1.16  32,175.31   \n",
       "4   17,929.73    2926004763423410907455       8300  7200     1.34  28,994.38   \n",
       "..        ...                       ...        ...   ...      ...        ...   \n",
       "971      0.68         64120465223051379       8300  7200     1.26       1.04   \n",
       "972      0.42        327148566846872074       8300  7200     2.05       1.04   \n",
       "973      1.01        315275868525102826       7456  6470     1.51       1.02   \n",
       "974      6.84       5519461473041945774       8578  8173     1.90       1.10   \n",
       "981      0.56        180693550841124912       8300  7200     1.52       1.03   \n",
       "\n",
       "      ethdebt  collateral_steth_calc  diff_collateral  diff_debt  \n",
       "0   25,938.93             171,552.03             0.21       0.50  \n",
       "1   45,064.67              60,951.86             0.34       0.13  \n",
       "2   37,883.72              47,808.47             0.00       0.00  \n",
       "3        0.00              32,144.15             0.00       1.00  \n",
       "4   17,929.73              28,966.30             0.00       0.00  \n",
       "..        ...                    ...              ...        ...  \n",
       "971      0.68                   1.04             0.00       0.00  \n",
       "972      0.00                   1.04             0.00       1.00  \n",
       "973      1.01                   1.02             0.50       0.00  \n",
       "974      0.00                   1.10             0.93       1.00  \n",
       "981      0.56                   1.03             0.00       0.00  \n",
       "\n",
       "[976 rows x 13 columns]"
      ]
     },
     "execution_count": 8,
     "metadata": {},
     "output_type": "execute_result"
    }
   ],
   "source": [
    "df = pd.read_csv(\"data/steth_aave.csv\")\n",
    "df = df.query('amount > 1')\n",
    "df"
   ]
  },
  {
   "cell_type": "code",
   "execution_count": 9,
   "id": "54903c09",
   "metadata": {},
   "outputs": [],
   "source": [
    "# position's selection for Bin2: with >=80% of debt not ETH and for Subbin (b2_debt80_stables) with >=80% of debt in stablecoins\n",
    "b2_debt80_stables = v2.get_subbin2_stablecoin_debt(df)"
   ]
  },
  {
   "cell_type": "code",
   "execution_count": 10,
   "id": "9cf4700b",
   "metadata": {},
   "outputs": [
    {
     "name": "stdout",
     "output_type": "stream",
     "text": [
      "In Bin2 there is 371,733 stETH, ~ 42.09 % of total stETH locked in AAVE v2\n",
      "In SubBin2 (with debt in stablecoins) there is 313,569 stETH, ~ 84.35 % of Bin2(v2)\n"
     ]
    }
   ],
   "source": [
    "b2 = pd.read_csv(\"data/b2.csv\")\n",
    "print(f'In Bin2 there is {b2.amount.sum():,.0f} stETH, ~ {100*b2.amount.sum()/df.amount.sum():,.2f} % of total stETH locked in AAVE v2')\n",
    "print(f'In SubBin2 (with debt in stablecoins) there is {b2_debt80_stables.amount.sum():,.0f} stETH, ~ {100*b2_debt80_stables.amount.sum()/b2.amount.sum():,.2f} % of Bin2(v2)')\n"
   ]
  },
  {
   "cell_type": "code",
   "execution_count": 11,
   "id": "3fd95407",
   "metadata": {},
   "outputs": [],
   "source": [
    "# Selection of all remaining positions for Bin3 \n",
    "# and allocation for Subbin (b3_eth_wbtc_stable_80) positions with >=80% of collateral in stETH, ETH, WBTC and stablecoins\n",
    "# and >=80% of debt in stablecoins & WBTC\n",
    "#b1 = pd.read_csv(\"b1.csv\")\n",
    "b3_eth_wbtc_stable_80 = v2.get_subbin3_stables_wbtc_eth_80(df, b1, b2)"
   ]
  },
  {
   "cell_type": "code",
   "execution_count": 12,
   "id": "61de30a7",
   "metadata": {},
   "outputs": [
    {
     "name": "stdout",
     "output_type": "stream",
     "text": [
      "In Bin3 there is 281,811 stETH, ~ 31.91 % of total stETH locked in AAVE v2\n",
      "In SubBin3 (with collateral&debt in stETH, ETH, stablecoins, WBTC) there is 272,615 stETH, ~ 96.74 % of Bin3 (v2)\n"
     ]
    }
   ],
   "source": [
    "b3 = pd.read_csv(\"data/b3.csv\")\n",
    "print(f'In Bin3 there is {b3.amount.sum():,.0f} stETH, ~ {100*b3.amount.sum()/df.amount.sum():,.2f} % of total stETH locked in AAVE v2')\n",
    "print(f'In SubBin3 (with collateral&debt in stETH, ETH, stablecoins, WBTC) there is {b3_eth_wbtc_stable_80.amount.sum():,.0f} stETH, ~ {100*b3_eth_wbtc_stable_80.amount.sum()/b3.amount.sum():,.2f} % of Bin3 (v2)')\n"
   ]
  },
  {
   "attachments": {},
   "cell_type": "markdown",
   "id": "8a803ac5",
   "metadata": {},
   "source": [
    "### Aave V3 wstETH market. Data extraction"
   ]
  },
  {
   "cell_type": "code",
   "execution_count": 13,
   "id": "f235353e",
   "metadata": {},
   "outputs": [],
   "source": [
    "#Extraction and preparing the data about Aave v3 positions with stETH as collateral\n",
    "dfv3 = v3.get_data()\n",
    "dfv3 = dfv3.query('collateral > 0 & debt > 0')\n",
    "dfv3 = v3.prepare_data(dfv3)"
   ]
  },
  {
   "cell_type": "code",
   "execution_count": 14,
   "id": "1fd71f71",
   "metadata": {},
   "outputs": [
    {
     "name": "stdout",
     "output_type": "stream",
     "text": [
      "Aave v3 wstETH collateral: 299,296 wstETH\n"
     ]
    }
   ],
   "source": [
    "print(f'Aave v3 wstETH collateral: {dfv3.amount.sum():,.0f} wstETH')"
   ]
  },
  {
   "cell_type": "code",
   "execution_count": 15,
   "id": "e03d2195",
   "metadata": {},
   "outputs": [
    {
     "name": "stdout",
     "output_type": "stream",
     "text": [
      "In Bin1.1 there is 165,222 stETH, ~ 55.20 % of total stETH locked in AAVE v3\n"
     ]
    }
   ],
   "source": [
    "# position's selection for Bin1.1: with >=80% of collateral in stETH/rETH/cbETH and >= 80% of debt in ETH and e-mode\n",
    "b1v3 = v3.get_bin1_eth_debt(dfv3)\n",
    "print(f'In Bin1.1 there is {b1v3.amount.sum():,.0f} stETH, ~ {100*b1v3.amount.sum()/dfv3.amount.sum():,.2f} % of total stETH locked in AAVE v3')"
   ]
  },
  {
   "cell_type": "code",
   "execution_count": 16,
   "id": "c258a3e1",
   "metadata": {},
   "outputs": [
    {
     "name": "stdout",
     "output_type": "stream",
     "text": [
      "In Bin1.2 there is 643 stETH, ~ 0.21 % of total stETH locked in AAVE v3\n"
     ]
    }
   ],
   "source": [
    "# position's selection for Bin1.2: with >=80% of collateral in stETH/rETH/cbETH and >= 80% of debt in ETH and without e-mode - normally very small amount\n",
    "b12v3 = v3.get_bin12_eth_debt(dfv3)\n",
    "print(f'In Bin1.2 there is {b12v3.amount.sum():,.0f} stETH, ~ {100*b12v3.amount.sum()/dfv3.amount.sum():,.2f} % of total stETH locked in AAVE v3')"
   ]
  },
  {
   "cell_type": "code",
   "execution_count": 17,
   "id": "767df07b",
   "metadata": {},
   "outputs": [],
   "source": [
    "# position's selection for Bin2: with >=80% of debt not ETH and for Subbin (b2_debt80_stables) with >=80% of debt in stablecoins\n",
    "\n",
    "b2v3_debt80_stables = v3.get_subbin2_stablecoin_debt(dfv3)"
   ]
  },
  {
   "cell_type": "code",
   "execution_count": 18,
   "id": "18bf96b0",
   "metadata": {},
   "outputs": [
    {
     "name": "stdout",
     "output_type": "stream",
     "text": [
      "In Bin2 there is 131,323 wstETH, ~ 43.88 % of total wstETH locked in AAVE v3\n",
      "In SubBin2 (with debt in stablecoins) there is 101,305 stETH, ~ 77.14 % of Bin2 (v3)\n"
     ]
    }
   ],
   "source": [
    "b2v3 = pd.read_csv(\"data/b2_v3.csv\")\n",
    "print(f'In Bin2 there is {b2v3.amount.sum():,.0f} wstETH, ~ {100*b2v3.amount.sum()/dfv3.amount.sum():,.2f} % of total wstETH locked in AAVE v3')\n",
    "print(f'In SubBin2 (with debt in stablecoins) there is {b2v3_debt80_stables.amount.sum():,.0f} stETH, ~ {100*b2v3_debt80_stables.amount.sum()/b2v3.amount.sum():,.2f} % of Bin2 (v3)')\n"
   ]
  },
  {
   "cell_type": "code",
   "execution_count": 19,
   "id": "3fcad803",
   "metadata": {},
   "outputs": [
    {
     "name": "stdout",
     "output_type": "stream",
     "text": [
      "In Bin3 there is 2,108 stETH, ~ 0.70 % of total stETH locked in AAVE v3\n",
      "In SubBin3 (with collateral&debt in stETH, ETH, stablecoins, WBTC) there is 2,106 stETH, ~ 99.92 % of Bin3\n"
     ]
    }
   ],
   "source": [
    "# Selection of all remaining positions for Bin3 \n",
    "# and allocation for Subbin (b3_eth_wbtc_stable_80) positions with >=80% of collateral in stETH, ETH, rETH, cbETH, WBTC and stablecoins\n",
    "# and >=80% of debt in stablecoins & WBTC\n",
    "\n",
    "b3v3_eth_wbtc_stable_80 = v3.get_subbin3_stables_wbtc_eth_80(dfv3, b1v3, b12v3, b2v3)\n",
    "b3v3 = pd.read_csv(\"data/b3_v3.csv\")\n",
    "print(f'In Bin3 there is {b3v3.amount.sum():,.0f} stETH, ~ {100*b3v3.amount.sum()/dfv3.amount.sum():,.2f} % of total stETH locked in AAVE v3')\n",
    "print(f'In SubBin3 (with collateral&debt in stETH, ETH, stablecoins, WBTC) there is {b3v3_eth_wbtc_stable_80.amount.sum():,.0f} stETH, ~ {100*b3v3_eth_wbtc_stable_80.amount.sum()/b3v3.amount.sum():,.2f} % of Bin3')\n"
   ]
  }
 ],
 "metadata": {
  "interpreter": {
   "hash": "f18bf6158b90d063a72ccd2a2ff5fe3bfef394e73a8c6e48fb25e9eb4320e504"
  },
  "kernelspec": {
   "display_name": "Python 3.10.0 64-bit",
   "language": "python",
   "name": "python3"
  },
  "language_info": {
   "codemirror_mode": {
    "name": "ipython",
    "version": 3
   },
   "file_extension": ".py",
   "mimetype": "text/x-python",
   "name": "python",
   "nbconvert_exporter": "python",
   "pygments_lexer": "ipython3",
   "version": "3.10.0"
  }
 },
 "nbformat": 4,
 "nbformat_minor": 5
}
